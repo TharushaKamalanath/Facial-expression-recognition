{
 "cells": [
  {
   "cell_type": "code",
   "execution_count": null,
   "id": "bb27713a-834d-4ff4-859b-f96226af3204",
   "metadata": {},
   "outputs": [],
   "source": [
    "import pandas as pd \n",
    "import numpy as np \n",
    "import torch\n",
    "import torch.nn as nn \n",
    "import torch.optim as optim\n",
    "from torchvision import datasets, transforms\n",
    "from torch.utils.data import DataLoader\n",
    "import os  "
   ]
  },
  {
   "cell_type": "code",
   "execution_count": 4,
   "id": "362859b5-9f48-4e9a-a04a-f7c78a116ee3",
   "metadata": {},
   "outputs": [],
   "source": [
    "train_dir = \"C:\\\\Users\\\\Tharusha Kamalanath\\\\Downloads\\\\archive(3)\\\\train\" \n",
    "test_dir = \"C:\\\\Users\\\\Tharusha Kamalanath\\\\Downloads\\\\archive(3)\\\\test\""
   ]
  },
  {
   "cell_type": "code",
   "execution_count": 5,
   "id": "0720cec4-b973-4628-90e8-4512fd451043",
   "metadata": {},
   "outputs": [],
   "source": [
    "transform = transforms.Compose([transforms.Grayscale(),\n",
    "                                transforms.Resize((48,48)),\n",
    "                                transforms.ToTensor(),\n",
    "                                transforms.Normalize((0.5,),(0.5,))])"
   ]
  },
  {
   "cell_type": "code",
   "execution_count": null,
   "id": "b1f1c8da-6a3e-46df-b422-76d76d7ffed1",
   "metadata": {},
   "outputs": [],
   "source": [
    "train_dataset = datasets.ImageFolder(train_dir,transform=transform)\n",
    "test_dataset = datasets.ImageFolder(test_dir,transform=transform) \n",
    "\n",
    "train_loader = DataLoader(train_dataset,batch_size=64,shuffle=True)\n",
    "test_loader = DataLoader(test_dataset,batch_size=64,shuffle=False)\n",
    "\n"
   ]
  },
  {
   "cell_type": "code",
   "execution_count": 8,
   "id": "ec878cb0-19d8-49d9-9fd4-1435c8af7094",
   "metadata": {},
   "outputs": [],
   "source": [
    "class EmotionCNN(nn.Module):\n",
    "    def __init__(self):\n",
    "        super().__init__()\n",
    "        self.cnn = nn.Sequential(\n",
    "            nn.Conv2d(1, 16, 3, padding=1),\n",
    "            nn.ReLU(),\n",
    "            nn.MaxPool2d(2),                \n",
    "            \n",
    "            nn.Conv2d(16, 32, 3, padding=1), \n",
    "            nn.ReLU(),\n",
    "            nn.MaxPool2d(2),                 \n",
    "\n",
    "            nn.Conv2d(32, 64, 3, padding=1), \n",
    "            nn.ReLU(),\n",
    "            nn.MaxPool2d(2)                  \n",
    "        )\n",
    "\n",
    "        self.fc = nn.Sequential(\n",
    "            nn.Flatten(),\n",
    "            nn.Linear(64 * 6 * 6, 128),      \n",
    "            nn.ReLU(),\n",
    "            nn.Linear(128, 7)               \n",
    "        )\n",
    "\n",
    "    def forward(self, x):\n",
    "        x = self.cnn(x)\n",
    "        x = self.fc(x)\n",
    "        return x\n"
   ]
  },
  {
   "cell_type": "code",
   "execution_count": null,
   "id": "61009c13-0510-4beb-9acf-4e226b8e04af",
   "metadata": {},
   "outputs": [],
   "source": [
    "device = torch.device(\"cuda\" if torch.cuda.is_available() else \"cpu\")\n",
    "model = EmotionCNN().to(device)\n",
    "\n",
    "criterion = nn.CrossEntropyLoss()\n",
    "optimizer = optim.Adam(model.parameters(), lr=0.001)\n",
    "\n",
    "epochs = 10\n",
    "for epoch in range(epochs):\n",
    "    model.train()\n",
    "    running_loss = 0\n",
    "    correct = 0\n",
    "    total = 0\n",
    "    for images, labels in train_loader:\n",
    "        images, labels = images.to(device), labels.to(device)\n",
    "\n",
    "        outputs = model(images)\n",
    "        loss = criterion(outputs, labels)\n",
    "\n",
    "        optimizer.zero_grad()\n",
    "        loss.backward()\n",
    "        optimizer.step()\n",
    "\n",
    "        running_loss += loss.item()\n",
    "        _, predicted = outputs.max(1)\n",
    "        total += labels.size(0)\n",
    "        correct += predicted.eq(labels).sum().item()\n",
    "\n",
    "    print(f\"Epoch [{epoch+1}/{epochs}], Loss: {running_loss:.4f}, Accuracy: {100*correct/total:.2f}%\")\n"
   ]
  },
  {
   "cell_type": "code",
   "execution_count": null,
   "id": "ad6320c8-ab3d-4691-af13-fbdcd185ff1c",
   "metadata": {},
   "outputs": [],
   "source": [
    "import torchvision\n",
    "import matplotlib.pyplot as plt\n",
    "\n",
    "def imshow(img):\n",
    "    img = img / 2 + 0.5  # unnormalize\n",
    "    npimg = img.numpy()\n",
    "    plt.imshow(npimg[0], cmap='gray')\n",
    "    plt.axis('off')\n",
    "    plt.show()\n",
    "\n",
    "dataiter = iter(test_loader)\n",
    "images, labels = next(dataiter)\n",
    "outputs = model(images.to(device))\n",
    "_, preds = outputs.max(1)\n",
    "\n",
    "for i in range(5):\n",
    "    imshow(images[i])\n",
    "    print(f\"True: {class_names[labels[i]]}, Predicted: {class_names[preds[i]]}\")\n"
   ]
  },
  {
   "cell_type": "code",
   "execution_count": null,
   "id": "c627ebf7-1a98-4a73-90d5-33a22870758a",
   "metadata": {},
   "outputs": [],
   "source": [
    "pip install opencv-python"
   ]
  },
  {
   "cell_type": "code",
   "execution_count": 13,
   "id": "d5bbee65-4294-453b-9932-0aa4a2d0e0c9",
   "metadata": {},
   "outputs": [],
   "source": [
    "torch.save(model.state_dict(), \"emotion_model.pth\")"
   ]
  },
  {
   "cell_type": "code",
   "execution_count": 14,
   "id": "fd32fa62-2354-418f-9192-7dc784c42c84",
   "metadata": {},
   "outputs": [],
   "source": [
    "import torch\n",
    "import cv2\n",
    "import numpy as np\n",
    "from torchvision import transforms\n",
    "\n",
    "# Load trained model (adjust path)\n",
    "model = EmotionCNN()\n",
    "model.load_state_dict(torch.load(\"emotion_model.pth\", map_location=torch.device('cpu')))\n",
    "model.eval()\n",
    "\n",
    "# Class labels\n",
    "class_names = ['angry', 'disgust', 'fear', 'happy', 'sad', 'surprise', 'neutral']\n"
   ]
  },
  {
   "cell_type": "code",
   "execution_count": 15,
   "id": "e5052189-c93f-42e0-9d96-c74947f10fca",
   "metadata": {},
   "outputs": [],
   "source": [
    "transform = transforms.Compose([\n",
    "    transforms.ToPILImage(),\n",
    "    transforms.Grayscale(),\n",
    "    transforms.Resize((48, 48)),\n",
    "    transforms.ToTensor(),\n",
    "    transforms.Normalize((0.5,), (0.5,))\n",
    "])\n"
   ]
  },
  {
   "cell_type": "code",
   "execution_count": null,
   "id": "2ebc8087-968d-4d50-a9af-ce5d27c0e423",
   "metadata": {
    "scrolled": true
   },
   "outputs": [],
   "source": [
    "cap = cv2.VideoCapture(0)  \n",
    "ret, frame = cap.read()\n",
    "cap.release()  \n",
    "\n",
    "# Convert to grayscale and detect face\n",
    "gray = cv2.cvtColor(frame, cv2.COLOR_BGR2GRAY)\n",
    "face_cascade = cv2.CascadeClassifier(cv2.data.haarcascades + 'haarcascade_frontalface_default.xml')\n",
    "faces = face_cascade.detectMultiScale(gray, scaleFactor=1.3, minNeighbors=5)\n",
    "\n",
    "for (x, y, w, h) in faces:\n",
    "    roi = gray[y:y+h, x:x+w]\n",
    "    roi_resized = cv2.resize(roi, (48, 48))\n",
    "    roi_tensor = transform(roi_resized).unsqueeze(0)\n",
    "\n",
    "    with torch.no_grad():\n",
    "        output = model(roi_tensor)\n",
    "        pred = torch.argmax(output, 1).item()\n",
    "        label = class_names[pred]\n",
    "\n",
    "    # Draw label and box\n",
    "    cv2.rectangle(frame, (x, y), (x+w, y+h), (0,255,0), 2)\n",
    "    cv2.putText(frame, label, (x, y-10), cv2.FONT_HERSHEY_SIMPLEX, 1, (255,255,255), 2)\n",
    "\n",
    "# Convert color (BGR to RGB) for matplotlib\n",
    "frame_rgb = cv2.cvtColor(frame, cv2.COLOR_BGR2RGB)\n",
    "\n",
    "# Display in notebook\n",
    "plt.figure(figsize=(6,6))\n",
    "plt.imshow(frame_rgb)\n",
    "plt.axis('off')\n",
    "plt.title(\"Predicted Emotion\")\n",
    "plt.show()\n"
   ]
  },
  {
   "cell_type": "code",
   "execution_count": null,
   "id": "435548c9-6fd3-4192-97e0-bafc9af12416",
   "metadata": {},
   "outputs": [],
   "source": []
  }
 ],
 "metadata": {
  "kernelspec": {
   "display_name": "Python 3 (ipykernel)",
   "language": "python",
   "name": "python3"
  },
  "language_info": {
   "codemirror_mode": {
    "name": "ipython",
    "version": 3
   },
   "file_extension": ".py",
   "mimetype": "text/x-python",
   "name": "python",
   "nbconvert_exporter": "python",
   "pygments_lexer": "ipython3",
   "version": "3.11.7"
  }
 },
 "nbformat": 4,
 "nbformat_minor": 5
}
